{
 "cells": [
  {
   "cell_type": "markdown",
   "metadata": {},
   "source": [
    "Noise Figure\n",
    "==="
   ]
  },
  {
   "cell_type": "markdown",
   "metadata": {},
   "source": [
    "$F = \\frac{SNR_{IN}}{SNR_{OUT}} = 1 + \\frac{Te}{T_0}$"
   ]
  },
  {
   "cell_type": "markdown",
   "metadata": {},
   "source": [
    "$T_e = T_0 \\cdot (F - 1)$"
   ]
  },
  {
   "cell_type": "markdown",
   "metadata": {},
   "source": [
    "Cascade noise temperature\n",
    "$T_{cas} = T_1 + \\frac{T_2}{G_1} +  \\frac{T_3}{G_1 \\cdot G2} + ... + \\frac{T_n}{ \\prod_{i = 1}^{n-1} G_{i}}$"
   ]
  },
  {
   "cell_type": "markdown",
   "metadata": {},
   "source": [
    "Cascade noise factor\n",
    "$NF_{cas} = F_1 + \\frac{F_2 - 1}{G_1} + \\frac{F_3 - 1}{G_1 \\cdot G_2} + ... + \\frac{F_n - 1}{ \\prod_{i = 1}^{n-1} G_{i}}$"
   ]
  },
  {
   "cell_type": "code",
   "execution_count": null,
   "metadata": {},
   "outputs": [],
   "source": [
    "import numpy\n",
    "def NF(F, G):\n",
    "    # Convert to natural units\n",
    "    f = numpy.power(10, numpy.multiply(0.1, F));\n",
    "    g = numpy.power(10, numpy.multiply(0.1, G));\n",
    "    nf = f[0];\n",
    "       \n",
    "    for i in range(1, len(F)):\n",
    "        cum_gain = g[0];\n",
    "        if (i > 1):\n",
    "            for k in range(0, i-1):\n",
    "                cum_gain = cum_gain * g[k];\n",
    "        nf = nf + (f[i] - 1) / cum_gain;\n",
    "    return 10*log(nf.item(), 10);"
   ]
  },
  {
   "cell_type": "markdown",
   "metadata": {},
   "source": [
    "Example\n",
    "---"
   ]
  },
  {
   "cell_type": "code",
   "execution_count": 103,
   "metadata": {},
   "outputs": [
    {
     "name": "stdout",
     "output_type": "stream",
     "text": [
      "Noise Figure = 2.19 dB\n",
      "Total gain = 25 dB\n"
     ]
    }
   ],
   "source": [
    "F = [2, 5, 2]; #dB\n",
    "G = [15, -5, 15]; #dB\n",
    "\n",
    "print(\"Noise Figure = \" + str(NF(F=F, G=G).n(digits=3)) + \" dB\")\n",
    "print(\"Total gain = \" + str(numpy.sum(G).item()) + \" dB\")"
   ]
  },
  {
   "cell_type": "markdown",
   "metadata": {},
   "source": [
    "Input signal level for a desired SNR - Sensitivity\n",
    "---"
   ]
  },
  {
   "cell_type": "code",
   "execution_count": 108,
   "metadata": {},
   "outputs": [],
   "source": [
    "def sen(BW, NF, SNRout):\n",
    "    k = 1.38e-23; #J/K\n",
    "    T0 = 290; #K\n",
    "    F = numpy.power(10, numpy.multiply(0.1, NF)).item();\n",
    "    SNRout_nu = numpy.power(10, numpy.multiply(0.1, SNRout)).item();\n",
    "    si = k*T0*BW*F*SNRout_nu;\n",
    "    return 10*log(si, 10) + 30;"
   ]
  },
  {
   "cell_type": "markdown",
   "metadata": {},
   "source": [
    "Example\n",
    "---"
   ]
  },
  {
   "cell_type": "code",
   "execution_count": 112,
   "metadata": {},
   "outputs": [
    {
     "name": "stdout",
     "output_type": "stream",
     "text": [
      "Sensitivity = -42.2 dBm\n"
     ]
    }
   ],
   "source": [
    "BW = 1200e6; # Hz\n",
    "NF = 6; # dB\n",
    "SNRout = 35; #dB\n",
    "\n",
    "print(\"Sensitivity = \" + str(sen(BW=BW, NF=NF, SNRout=SNRout).n(digits=3)) + \" dBm\")"
   ]
  },
  {
   "cell_type": "markdown",
   "metadata": {},
   "source": [
    "Minimum discirnable signal (MDS)\n",
    "---\n",
    "$MDS (dBm) = -174dBm + 10 \\cdot log_{10}(BW) + NF$"
   ]
  },
  {
   "cell_type": "code",
   "execution_count": 1,
   "metadata": {},
   "outputs": [],
   "source": [
    "def MDS(BW, NF):\n",
    "    return -174 + 10*log(BW, 10) + NF;"
   ]
  },
  {
   "cell_type": "markdown",
   "metadata": {},
   "source": [
    "Example\n",
    "---"
   ]
  },
  {
   "cell_type": "code",
   "execution_count": 6,
   "metadata": {},
   "outputs": [
    {
     "name": "stdout",
     "output_type": "stream",
     "text": [
      "MDS = -79.00 dBm\n"
     ]
    }
   ],
   "source": [
    "BW = 1000e6; #Hz\n",
    "NF = 5; #dB\n",
    "print(\"MDS = \" + str(MDS(BW=BW, NF=NF).n(digits=4)) + \" dBm\")"
   ]
  },
  {
   "cell_type": "code",
   "execution_count": null,
   "metadata": {},
   "outputs": [],
   "source": []
  }
 ],
 "metadata": {
  "kernelspec": {
   "display_name": "SageMath 8.1",
   "language": "",
   "name": "sagemath"
  },
  "language_info": {
   "codemirror_mode": {
    "name": "ipython",
    "version": 2
   },
   "file_extension": ".py",
   "mimetype": "text/x-python",
   "name": "python",
   "nbconvert_exporter": "python",
   "pygments_lexer": "ipython2",
   "version": "2.7.17"
  }
 },
 "nbformat": 4,
 "nbformat_minor": 2
}
