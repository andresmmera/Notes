{
 "cells": [
  {
   "cell_type": "markdown",
   "metadata": {},
   "source": [
    "Half-IF spurious\n",
    "---"
   ]
  },
  {
   "cell_type": "markdown",
   "metadata": {},
   "source": [
    "The half-IF spurious response appears at the indices (2,-2) for low-side injection ($f_{LO} < f_{RF}$) and at (-2, 2) for high-side injection ($f_{LO} < f_{RF}$) <br/>\n",
    "\n",
    "Regardless the injection side, it can be calculated as follows: <br/>\n",
    "$f_{1/2 IF} = \\frac{f_{RF} + f_{LO}}{2}$ <br/>\n",
    "\n",
    "Low-side injection: <br/>\n",
    "$2 \\cdot f_{1/2 IF} - 2 \\cdot f_{LO} =2 \\cdot \\left( \\frac{f_{RF} + f_{LO}}{2} \\right) - 2 \\cdot f_{LO} = f_{RF} - f_{LO} = f_{IF}$ <br/>\n",
    "High-side injection: <br/>\n",
    "$-2 \\cdot f_{1/2 IF} + 2 \\cdot f_{LO} = -2 \\cdot \\left( \\frac{f_{RF} + f_{LO}}{2} \\right) + 2 \\cdot f_{LO} = f_{LO} - f_{RF}= -f_{IF} = f_{IF}$"
   ]
  },
  {
   "cell_type": "code",
   "execution_count": 18,
   "metadata": {},
   "outputs": [
    {
     "name": "stdout",
     "output_type": "stream",
     "text": [
      "LO for low-side injection: 800.0 MHz\n",
      "LO for high-side injection: 1000. MHz\n"
     ]
    }
   ],
   "source": [
    "f_IF = 100e6; #Hz\n",
    "f_RF = 900e6; #Hz\n",
    "\n",
    "f_LO_low = f_RF - f_IF\n",
    "f_LO_high = f_RF + f_IF\n",
    "\n",
    "print(\"LO for low-side injection: \" + str((f_LO_low*1e-6).n(digits=4)) + \" MHz\")\n",
    "print(\"LO for high-side injection: \" + str((f_LO_high*1e-6).n(digits=4)) + \" MHz\")"
   ]
  },
  {
   "cell_type": "markdown",
   "metadata": {},
   "source": [
    "Real-world mixers produce mixing products at $ m \\cdot f_{RF} + n \\cdot f_{LO}$ <br/>"
   ]
  },
  {
   "cell_type": "markdown",
   "metadata": {},
   "source": [
    "Low-side injection\n",
    "---"
   ]
  },
  {
   "cell_type": "code",
   "execution_count": 26,
   "metadata": {},
   "outputs": [
    {
     "name": "stdout",
     "output_type": "stream",
     "text": [
      "In the case of the low-side injection, the half-IF at 850.0 MHz is downconverted to 2·850.0 -2·800.0 = 100.0 MHz\n"
     ]
    }
   ],
   "source": [
    "m = 2;\n",
    "n = -2;\n",
    "\n",
    "f_half_IF_low = 0.5*(f_RF + f_LO_low)\n",
    "\n",
    "f = m*f_half_IF_low + n*f_LO_low\n",
    "\n",
    "print(\"In the case of the low-side injection, the half-IF at \" + str((f_half_IF_low*1e-6).n(digits=4)) + \" MHz \" +\n",
    "      \"is downconverted to 2·\"+ str((f_half_IF_low*1e-6).n(digits=4)) + \" -2·\" + str((f_LO_low*1e-6).n(digits=4)) + \" = \" + str((f*1e-6).n(digits=4)) + \" MHz\")"
   ]
  },
  {
   "cell_type": "markdown",
   "metadata": {},
   "source": [
    "High-side injection\n",
    "---"
   ]
  },
  {
   "cell_type": "code",
   "execution_count": 28,
   "metadata": {},
   "outputs": [
    {
     "name": "stdout",
     "output_type": "stream",
     "text": [
      "In the case of the high-side injection, the half-IF at 950.0 MHz is downconverted to -2·950.0 -2·1000.0 = 100.0 MHz\n"
     ]
    }
   ],
   "source": [
    "m = -2;\n",
    "n = 2;\n",
    "\n",
    "f_half_IF_high = 0.5*(f_RF + f_LO_high)\n",
    "\n",
    "f = m*f_half_IF_high + n*f_LO_high\n",
    "\n",
    "print(\"In the case of the high-side injection, the half-IF at \" + str((f_half_IF_high*1e-6).n(digits=4)) + \" MHz \" +\n",
    "      \"is downconverted to -2·\"+ str((f_half_IF_high*1e-6).n(digits=4)) + \" -2·\" + str((f_LO_high*1e-6).n(digits=5)) + \" = \" + str((f*1e-6).n(digits=4)) + \" MHz\")"
   ]
  },
  {
   "cell_type": "markdown",
   "metadata": {},
   "source": [
    "IIP2 requirement\n",
    "---\n",
    "\n",
    "The half-IF rejection is related to the input IIP2 as follows: <br/>\n",
    "$R_{1/2 IF} = \\frac{1}{2} \\cdot (IIP2 - S - CR)$ (dB)<br/>\n",
    "\n",
    "where S is the sensitivity and the CR is the cochannel rejection, which is in fact the C/I ratio"
   ]
  },
  {
   "cell_type": "code",
   "execution_count": null,
   "metadata": {},
   "outputs": [],
   "source": []
  }
 ],
 "metadata": {
  "kernelspec": {
   "display_name": "SageMath 8.1",
   "language": "",
   "name": "sagemath"
  },
  "language_info": {
   "codemirror_mode": {
    "name": "ipython",
    "version": 2
   },
   "file_extension": ".py",
   "mimetype": "text/x-python",
   "name": "python",
   "nbconvert_exporter": "python",
   "pygments_lexer": "ipython2",
   "version": "2.7.17"
  }
 },
 "nbformat": 4,
 "nbformat_minor": 2
}
